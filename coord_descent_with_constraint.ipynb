{
 "cells": [
  {
   "cell_type": "code",
   "execution_count": 1,
   "metadata": {},
   "outputs": [],
   "source": [
    "import scipy as sp\n",
    "import scipy.optimize\n",
    "import numpy as np\n",
    "import pandas as pd\n",
    "import time\n",
    "import glob                                                                                                      \n",
    "import datetime\n",
    "from scipy.optimize import minimize\n",
    "import sys\n",
    "import matplotlib.pyplot as plt"
   ]
  },
  {
   "cell_type": "code",
   "execution_count": 2,
   "metadata": {},
   "outputs": [
    {
     "name": "stderr",
     "output_type": "stream",
     "text": [
      "C:\\Users\\pdine\\AppData\\Local\\Continuum\\anaconda3\\lib\\site-packages\\scipy\\optimize\\minpack.py:795: OptimizeWarning: Covariance of the parameters could not be estimated\n",
      "  category=OptimizeWarning)\n"
     ]
    }
   ],
   "source": [
    "import scipy as sp\n",
    "import scipy.optimize\n",
    "import numpy as np\n",
    "import pandas as pd\n",
    "import time\n",
    "import glob                                                                                                      \n",
    "import datetime\n",
    "from scipy.optimize import minimize\n",
    "import sys\n",
    "\n",
    "from fun_floodestimate import FloodHeight\n",
    "from fun_floodestimate import FloodHeightWall\n",
    "from fun_floodestimate import FloodTravelSectGroup\n",
    "from fun_floodestimate import SurfaceVolFunc\n",
    "from fun_damagecost import damage\n",
    "\n",
    "from fun_objective_loop_manywalls import objective\n",
    "#from fun_objective_loop import constraint1\n",
    "#from fun_objective_loop import constraint2\n",
    "#from fun_objective_loop import constraint3\n",
    "\n",
    "#input_name = sys.argv[1]\n",
    "output_name = sys.argv[1]\n",
    "\n",
    "#x = np.loadtxt(input_name)\n",
    "\n",
    "#ws = int(sys.argv[1])\n",
    "#we = int(sys.argv[2])\n",
    "#wh = float(sys.argv[3])\n",
    "#wall_year = int(sys.argv[4])\n",
    "#fname = sys.argv[5]\n",
    "\n",
    "# setup\n",
    "# Surface Volume Input\n",
    "ndiv18 = 18\n",
    "sections = [10,11,5,12,1,13,16,4,17,15,3,14,0,9,8,7,2,6]\n",
    "files = glob.glob('NewSurfaceVolumeCombined/LMN_div18_*.csv') \n",
    "groupcsvfiles = glob.glob('NewSurfaceVolumeGrouped/LMN_div18_*.csv') \n",
    "H = np.append(np.linspace(0,3,13),np.linspace(3.5,7,8))\n",
    "\n",
    "SVfg1 = np.zeros([ndiv18,2]);  SVfg2 = np.zeros([ndiv18,2]);  SVfg3 = np.zeros([ndiv18,2]);  SVfg4 = np.zeros([ndiv18,2])\n",
    "SVfg5 = np.zeros([ndiv18,2]);  SVfg6 = np.zeros([ndiv18,2]);  SVfg7 = np.zeros([ndiv18,2]);  SVfg8 = np.zeros([ndiv18,2])\n",
    "SVfg9 = np.zeros([ndiv18,2]);  SVfg10 = np.zeros([ndiv18,2]); SVfg11 = np.zeros([ndiv18,2]); SVfg12 = np.zeros([ndiv18,2])\n",
    "SVfg13 = np.zeros([ndiv18,2]); SVfg14 = np.zeros([ndiv18,2]); SVfg15 = np.zeros([ndiv18,2]); SVfg16 = np.zeros([ndiv18,2])\n",
    "SVfg17 = np.zeros([ndiv18,2]); SVfg18 = np.zeros([ndiv18,2]); SVfg19 = np.zeros([ndiv18,2]); SVfg20= np.zeros([ndiv18,2])\n",
    "\n",
    "i = 0\n",
    "for f in groupcsvfiles:\n",
    "    surfaceVg = pd.read_csv(f)[\"volume\"]\n",
    "    SVfg1[i,:],SVfg2[i,:],SVfg3[i,:],SVfg4[i,:],SVfg5[i,:],SVfg6[i,:],SVfg7[i,:],SVfg8[i,:],SVfg9[i,:],SVfg10[i,:],SVfg11[i,:],SVfg12[i,:],SVfg13[i,:],SVfg14[i,:],SVfg15[i,:],SVfg16[i,:],SVfg17[i,:],SVfg18[i,:],SVfg19[i,:],SVfg20[i,:] = SurfaceVolFunc(surfaceVg,H)\n",
    "    i = i + 1 \n",
    "\n",
    "\n",
    "SVf1 = np.zeros([ndiv18,2]);  SVf2 = np.zeros([ndiv18,2]);  SVf3 = np.zeros([ndiv18,2]);  SVf4 = np.zeros([ndiv18,2])\n",
    "SVf5 = np.zeros([ndiv18,2]);  SVf6 = np.zeros([ndiv18,2]);  SVf7 = np.zeros([ndiv18,2]);  SVf8 = np.zeros([ndiv18,2])\n",
    "SVf9 = np.zeros([ndiv18,2]);  SVf10 = np.zeros([ndiv18,2]); SVf11 = np.zeros([ndiv18,2]); SVf12 = np.zeros([ndiv18,2])\n",
    "SVf13 = np.zeros([ndiv18,2]); SVf14 = np.zeros([ndiv18,2]); SVf15 = np.zeros([ndiv18,2]); SVf16 = np.zeros([ndiv18,2])\n",
    "SVf17 = np.zeros([ndiv18,2]); SVf18 = np.zeros([ndiv18,2]); SVf19 = np.zeros([ndiv18,2]); SVf20= np.zeros([ndiv18,2])\n",
    "\n",
    "SV_all = []\n",
    "i = 0\n",
    "for f in files:\n",
    "    surfaceV_height = pd.read_csv(f)\n",
    "    surfaceV = surfaceV_height[\"volume\"]\n",
    "    SV_all = np.append(SV_all,surfaceV)\n",
    "    SVf1[i,:],SVf2[i,:],SVf3[i,:],SVf4[i,:],SVf5[i,:],SVf6[i,:],SVf7[i,:],SVf8[i,:],SVf9[i,:],SVf10[i,:],SVf11[i,:],SVf12[i,:],SVf13[i,:],SVf14[i,:],SVf15[i,:],SVf16[i,:],SVf17[i,:],SVf18[i,:],SVf19[i,:],SVf20[i,:] = SurfaceVolFunc(surfaceV,H)\n",
    "    i = i+1\n",
    "SV_all = SV_all.reshape(18,21)\n",
    "\n",
    "roughness = pd.read_csv(\"Roughness.csv\")[\"Roughness\"]\n",
    "slope = pd.read_csv(\"LMN_Slope.csv\")[\"Slope\"]\n",
    "\n",
    "# Setup - Division Connectivities\n",
    "sect3 = np.zeros([len(sections)-6,7])\n",
    "k = 3\n",
    "for i in sections[3:-3]:\n",
    "    sect3[k-3] = [sections[k-3],sections[k-2],sections[k-1],i,sections[k+1],sections[k+2],sections[k+3]]\n",
    "    k = k + 1\n",
    "\n",
    "sect0  = [sections[0],sections[1],sections[2],sections[3]] \n",
    "sect1  = [sections[0],sections[1],sections[2],sections[3],sections[4]]\n",
    "sect2  = [sections[0],sections[1],sections[2],sections[3],sections[4],sections[5]]\n",
    "\n",
    "sect_3 = [sections[-6],sections[-5],sections[-4],sections[-3],sections[-2],sections[-1]]\n",
    "sect_2 = [sections[-5],sections[-4],sections[-3],sections[-2],sections[-1]]\n",
    "sect_1 = [sections[-4],sections[-3],sections[-2],sections[-1]]\n",
    "\n",
    "# initial value\n",
    "total_cost = 75*10**9 # total cost without any protective measure\n",
    "cost_opt   = total_cost\n",
    "x_opt \t   = [0,2040,0,0]\n",
    "\n",
    "def objective2(h):\n",
    "    \n",
    "    w0 = np.ones(20)*h[0]\n",
    "    w1 = np.ones(20)*h[1]\n",
    "    w2 = np.ones(20)*h[2]\n",
    "    w3 = np.ones(20)*h[3]\n",
    "    w4 = np.ones(20)*h[4]\n",
    "    w5 = np.ones(20)*h[5]\n",
    "    w6 = np.ones(20)*h[6]\n",
    "    w7 = np.ones(23)*h[7]\n",
    "\n",
    "    x = np.concatenate((w0,w1,w2,w3,w4,w5,w5,w7))\n",
    "    \n",
    "    total_cost_new, wall_cost, n_cost_direct_sum_div = objective(x,SVf1,SVf2,SVf3,SVf4,SVf5,SVf6,SVf7,SVf8,SVf9,SVf10,SVf11,SVf12,SVf13,SVf14,SVf15,SVf16,SVf17,SVf18,SVf19,SVf20,\n",
    "                                            SVfg1,SVfg2,SVfg3,SVfg4,SVfg5,SVfg6,SVfg7,SVfg8,SVfg9,SVfg10,SVfg11,SVfg12,SVfg13,SVfg14,SVfg15,SVfg16,SVfg17,SVfg18,SVfg19,SVfg20,\n",
    "                                            SV_all,roughness,slope,sect0,sect1,sect2,sect3,sect_1,sect_2,sect_3,numiter=100)\n",
    "    #print(total_cost_new)\n",
    "    return total_cost_new, wall_cost, n_cost_direct_sum_div\n",
    "\n",
    "def objective3(x_input, numiter = 100):\n",
    "    x = np.zeros(163)\n",
    "    ws = int(max(x_input[0],0))\n",
    "    we = int(min(x_input[1],162))\n",
    "    wh = x_input[2]\n",
    "    x[ws:we] = np.ones(we-ws)*wh\n",
    "    print(x_input)\n",
    "    \n",
    "    total_cost_new, wall_cost, n_cost_direct_sum_div = objective(x,SVf1,SVf2,SVf3,SVf4,SVf5,SVf6,SVf7,SVf8,SVf9,SVf10,SVf11,SVf12,SVf13,SVf14,SVf15,SVf16,SVf17,SVf18,SVf19,SVf20,\n",
    "                                            SVfg1,SVfg2,SVfg3,SVfg4,SVfg5,SVfg6,SVfg7,SVfg8,SVfg9,SVfg10,SVfg11,SVfg12,SVfg13,SVfg14,SVfg15,SVfg16,SVfg17,SVfg18,SVfg19,SVfg20,\n",
    "                                            SV_all,roughness,slope,sect0,sect1,sect2,sect3,sect_1,sect_2,sect_3,numiter=numiter)\n",
    "    return total_cost_new, wall_cost, n_cost_direct_sum_div\n",
    "\n",
    "cons3 = [{'type': 'ineq', 'fun': lambda x:  x[1] - x[0]},\n",
    "        {'type': 'ineq', 'fun': lambda x: x[0]},\n",
    "        {'type': 'ineq', 'fun': lambda x: 162-x[1]},\n",
    "        {'type': 'ineq', 'fun': lambda x: x[2]},\n",
    "        {'type': 'ineq', 'fun': lambda x: 5.0-x[2]}]\n",
    "\n",
    "\n",
    "\n"
   ]
  },
  {
   "cell_type": "code",
   "execution_count": 3,
   "metadata": {},
   "outputs": [],
   "source": [
    "testwall = np.array([2.16666667,1.33333333,2.16666667,0.16666667,0.83333333,1.0,2.0,1.16666667])"
   ]
  },
  {
   "cell_type": "code",
   "execution_count": 4,
   "metadata": {},
   "outputs": [
    {
     "name": "stdout",
     "output_type": "stream",
     "text": [
      "0\n",
      "1\n",
      "2\n",
      "3\n",
      "4\n",
      "5\n",
      "6\n",
      "7\n",
      "8\n",
      "9\n",
      "10\n",
      "11\n",
      "12\n",
      "13\n",
      "14\n",
      "15\n",
      "16\n",
      "17\n",
      "18\n",
      "19\n",
      "20\n",
      "21\n",
      "22\n",
      "23\n",
      "24\n",
      "25\n",
      "26\n",
      "27\n",
      "28\n",
      "29\n",
      "30\n",
      "31\n",
      "32\n",
      "33\n",
      "34\n",
      "35\n",
      "36\n",
      "37\n",
      "38\n",
      "39\n",
      "40\n",
      "41\n",
      "42\n",
      "43\n",
      "44\n",
      "45\n",
      "46\n",
      "47\n",
      "48\n",
      "49\n",
      "50\n",
      "51\n",
      "52\n",
      "53\n",
      "54\n",
      "55\n",
      "56\n",
      "57\n",
      "58\n",
      "59\n",
      "60\n",
      "61\n",
      "62\n",
      "63\n",
      "64\n",
      "65\n",
      "66\n",
      "67\n",
      "68\n",
      "69\n",
      "70\n",
      "71\n",
      "72\n",
      "73\n",
      "74\n",
      "75\n",
      "76\n",
      "77\n",
      "78\n",
      "79\n",
      "80\n",
      "81\n",
      "82\n",
      "83\n",
      "84\n",
      "85\n",
      "86\n",
      "87\n",
      "88\n",
      "89\n",
      "90\n",
      "91\n",
      "92\n",
      "93\n",
      "94\n",
      "95\n",
      "96\n",
      "97\n",
      "98\n",
      "99\n"
     ]
    }
   ],
   "source": [
    "total_cost_new, wall_cost, n_cost_direct_sum_div = objective2(testwall)"
   ]
  },
  {
   "cell_type": "code",
   "execution_count": 13,
   "metadata": {},
   "outputs": [
    {
     "name": "stdout",
     "output_type": "stream",
     "text": [
      "2320020819.6121426\n",
      "985060200.7053719\n"
     ]
    }
   ],
   "source": [
    "print(total_cost_new)\n",
    "print(wall_cost)"
   ]
  },
  {
   "cell_type": "code",
   "execution_count": 5,
   "metadata": {},
   "outputs": [
    {
     "name": "stdout",
     "output_type": "stream",
     "text": [
      "(100, 18, 1)\n"
     ]
    }
   ],
   "source": [
    "div_array = np.array(n_cost_direct_sum_div)\n",
    "print(div_array.shape)"
   ]
  },
  {
   "cell_type": "code",
   "execution_count": 10,
   "metadata": {},
   "outputs": [],
   "source": [
    "np.save('wall8partsdivarray.npy',div_array.reshape((100,18)))"
   ]
  },
  {
   "cell_type": "code",
   "execution_count": 9,
   "metadata": {},
   "outputs": [
    {
     "data": {
      "text/plain": [
       "<matplotlib.legend.Legend at 0x14bcc5ccf48>"
      ]
     },
     "execution_count": 9,
     "metadata": {},
     "output_type": "execute_result"
    },
    {
     "data": {
      "image/png": "[encoded data removed]",
      "text/plain": [
       "<Figure size 432x288 with 1 Axes>"
      ]
     },
     "metadata": {
      "needs_background": "light"
     },
     "output_type": "display_data"
    }
   ],
   "source": [
    "bins = np.linspace(0,1e9,30)\n",
    "for i in range(18):\n",
    "    plt.hist(div_array[:,i,0],bins = bins, alpha = 0.6, label = str(i))\n",
    "plt.legend()"
   ]
  },
  {
   "cell_type": "code",
   "execution_count": 34,
   "metadata": {},
   "outputs": [
    {
     "name": "stdout",
     "output_type": "stream",
     "text": [
      "2.3200208196121426\n"
     ]
    }
   ],
   "source": [
    "print(total_cost_new/1e9)"
   ]
  },
  {
   "cell_type": "code",
   "execution_count": 30,
   "metadata": {},
   "outputs": [],
   "source": [
    "div_array = np.array(n_cost_direct_sum_div)\n",
    "B = 1e9"
   ]
  },
  {
   "cell_type": "code",
   "execution_count": 31,
   "metadata": {},
   "outputs": [
    {
     "name": "stdout",
     "output_type": "stream",
     "text": [
      "satisfy\n",
      "[ True  True  True  True  True  True  True  True  True  True  True  True\n",
      "  True  True  True  True  True  True]\n"
     ]
    }
   ],
   "source": [
    "if np.sum(np.sum(div_array[:,:,0] < B, axis = 0) > 95) == 18:\n",
    "    print('satisfy')\n",
    "print(np.sum(div_array[:,:,0] < B, axis = 0) > 95)"
   ]
  },
  {
   "cell_type": "code",
   "execution_count": null,
   "metadata": {},
   "outputs": [],
   "source": []
  }
 ],
 "metadata": {
  "kernelspec": {
   "display_name": "Python 3 (ipykernel)",
   "language": "python",
   "name": "python3"
  },
  "language_info": {
   "codemirror_mode": {
    "name": "ipython",
    "version": 3
   },
   "file_extension": ".py",
   "mimetype": "text/x-python",
   "name": "python",
   "nbconvert_exporter": "python",
   "pygments_lexer": "ipython3",
   "version": "3.9.12"
  }
 },
 "nbformat": 4,
 "nbformat_minor": 2
}
